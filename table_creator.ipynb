{
 "cells": [
  {
   "cell_type": "code",
   "execution_count": 61,
   "metadata": {},
   "outputs": [],
   "source": [
    "import pandas as pd\n",
    "def append_overleaf_format(str):\n",
    "    return \"\\n\\\\begin{table}[ht]\\n\\\\tiny\\n\" + str + \"\\\\end{table}\""
   ]
  },
  {
   "cell_type": "code",
   "execution_count": 62,
   "metadata": {},
   "outputs": [],
   "source": [
    "df = pd.read_csv(\"spam_experiment_results_3000_it.csv\")"
   ]
  },
  {
   "cell_type": "code",
   "execution_count": 63,
   "metadata": {},
   "outputs": [
    {
     "name": "stderr",
     "output_type": "stream",
     "text": [
      "C:\\Users\\jesus.bandez\\AppData\\Local\\Temp\\ipykernel_13708\\1378952525.py:6: FutureWarning: In future versions `DataFrame.to_latex` is expected to utilise the base implementation of `Styler.to_latex` for formatting and rendering. The arguments signature may therefore change. It is recommended instead to use `DataFrame.style.to_latex` which also contains additional functionality.\n",
      "  no_hidden_layer.drop([\"hidden layers\", \"test R2 error\", \"train R2 error\"], axis=1).to_latex(index=False)))\n",
      "C:\\Users\\jesus.bandez\\AppData\\Local\\Temp\\ipykernel_13708\\1378952525.py:6: FutureWarning: In future versions `DataFrame.to_latex` is expected to utilise the base implementation of `Styler.to_latex` for formatting and rendering. The arguments signature may therefore change. It is recommended instead to use `DataFrame.style.to_latex` which also contains additional functionality.\n",
      "  no_hidden_layer.drop([\"hidden layers\", \"test R2 error\", \"train R2 error\"], axis=1).to_latex(index=False)))\n",
      "C:\\Users\\jesus.bandez\\AppData\\Local\\Temp\\ipykernel_13708\\1378952525.py:6: FutureWarning: In future versions `DataFrame.to_latex` is expected to utilise the base implementation of `Styler.to_latex` for formatting and rendering. The arguments signature may therefore change. It is recommended instead to use `DataFrame.style.to_latex` which also contains additional functionality.\n",
      "  no_hidden_layer.drop([\"hidden layers\", \"test R2 error\", \"train R2 error\"], axis=1).to_latex(index=False)))\n",
      "C:\\Users\\jesus.bandez\\AppData\\Local\\Temp\\ipykernel_13708\\1378952525.py:6: FutureWarning: In future versions `DataFrame.to_latex` is expected to utilise the base implementation of `Styler.to_latex` for formatting and rendering. The arguments signature may therefore change. It is recommended instead to use `DataFrame.style.to_latex` which also contains additional functionality.\n",
      "  no_hidden_layer.drop([\"hidden layers\", \"test R2 error\", \"train R2 error\"], axis=1).to_latex(index=False)))\n"
     ]
    }
   ],
   "source": [
    "for layers in [\"[]\", \"[40]\", \"[60]\", \"[40, 40]\", \"[60, 60]\"]:\n",
    "\n",
    "    no_hidden_layer = df[df[\"hidden layers\"]==layers]\n",
    "    with open(f'tables\\\\table_{layers}.tex','w') as tf:\n",
    "        tf.write(append_overleaf_format(\n",
    "            no_hidden_layer.drop([\"hidden layers\", \"test R2 error\", \"train R2 error\"], axis=1).to_latex(index=False)))\n"
   ]
  }
 ],
 "metadata": {
  "kernelspec": {
   "display_name": "Python 3",
   "language": "python",
   "name": "python3"
  },
  "language_info": {
   "codemirror_mode": {
    "name": "ipython",
    "version": 3
   },
   "file_extension": ".py",
   "mimetype": "text/x-python",
   "name": "python",
   "nbconvert_exporter": "python",
   "pygments_lexer": "ipython3",
   "version": "3.11.4"
  }
 },
 "nbformat": 4,
 "nbformat_minor": 2
}
